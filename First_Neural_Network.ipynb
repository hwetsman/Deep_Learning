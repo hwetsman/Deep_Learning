{
 "cells": [
  {
   "cell_type": "code",
   "execution_count": 9,
   "id": "3515ef17",
   "metadata": {},
   "outputs": [],
   "source": [
    "import numpy as np"
   ]
  },
  {
   "cell_type": "code",
   "execution_count": 10,
   "id": "4afd4bba",
   "metadata": {},
   "outputs": [],
   "source": [
    "\n",
    "def neural_network(inp,weights):\n",
    "    hid = inp.dot(weights[0])\n",
    "    pred = hid.dot(weights[1])\n",
    "    return pred\n",
    "\n",
    "# def w_sum(a,b):\n",
    "#     assert(len(a) == len(b))\n",
    "#     output = 0\n",
    "#     for i in range(len(a)):\n",
    "#         output += (a[i] * b[i])\n",
    "#     return output\n",
    "\n",
    "# def elementwise_multiplication(vec_a,vec_b):\n",
    "#     assert(len(vec_a) == len(vec_b))\n",
    "#     output = [a * b for a, b in zip(vec_a, vec_b)]\n",
    "#     return output\n",
    "\n",
    "# def elementwise_addiction(vec_a,vec_b):\n",
    "#     assert(len(vec_a) == len(vec_b))\n",
    "#     output = 0\n",
    "#     for i in range(len(a)):\n",
    "#         output += (a[i]+b[i])\n",
    "#     return output\n",
    "\n",
    "# def vector_sum(vec_a):\n",
    "#     output = 0\n",
    "#     for i in range(len(vec_a)):\n",
    "#         output += vec_a[i]\n",
    "#     return output\n",
    "\n",
    "# def vector_average(vec_a):\n",
    "#     output = 0\n",
    "#     vec_sum = vector_sum(vec_a)\n",
    "#     output = vec_sum/len(vec_a)\n",
    "#     return output\n",
    "\n",
    "# def dot_product(vec_a,vec_b):\n",
    "#     c = elementwise_multiplication(vec_a,vec_b)\n",
    "#     output = vector_sum(c)\n",
    "#     return output\n"
   ]
  },
  {
   "cell_type": "code",
   "execution_count": 11,
   "id": "44868b65",
   "metadata": {},
   "outputs": [
    {
     "data": {
      "text/plain": [
       "array([0.2135, 0.145 , 0.5065])"
      ]
     },
     "execution_count": 11,
     "metadata": {},
     "output_type": "execute_result"
    }
   ],
   "source": [
    "# toes %win #fans\n",
    "ih_wgt = np.array([\n",
    "    [.1,.2,-.1], #hid[0]\n",
    "    [-.1,.1,.9], #hid[1]\n",
    "    [0.1,0.4,0.1]]).T #hid[2]\n",
    "\n",
    "# hid[0] hid[1] hid[2]\n",
    "hp_wgt = np.array([\n",
    "    [0.3,1.1,-.3], # hurt?\n",
    "    [.1,.2,.0], # win?\n",
    "    [0.0,1.3,.1]]).T #sad?\n",
    "weights = [ih_wgt, hp_wgt]\n",
    "\n",
    "toes = np.array([8.5,9.5,10,9])\n",
    "wlrec=np.array([0.65,0.8,0.8,0.9])\n",
    "nfans = np.array([1.2,1.3,0.5,1.0])\n",
    "\n",
    "\n",
    "inp = np.array([toes[0], wlrec[0],nfans[0]])\n",
    "pred = neural_network(inp,weights)\n",
    "pred"
   ]
  },
  {
   "cell_type": "code",
   "execution_count": null,
   "id": "c2c5041d",
   "metadata": {},
   "outputs": [],
   "source": []
  }
 ],
 "metadata": {
  "kernelspec": {
   "display_name": "Python 3 (ipykernel)",
   "language": "python",
   "name": "python3"
  },
  "language_info": {
   "codemirror_mode": {
    "name": "ipython",
    "version": 3
   },
   "file_extension": ".py",
   "mimetype": "text/x-python",
   "name": "python",
   "nbconvert_exporter": "python",
   "pygments_lexer": "ipython3",
   "version": "3.8.12"
  }
 },
 "nbformat": 4,
 "nbformat_minor": 5
}
